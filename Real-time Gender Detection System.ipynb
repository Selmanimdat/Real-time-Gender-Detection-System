{
 "cells": [
  {
   "cell_type": "markdown",
   "id": "1197aae8",
   "metadata": {},
   "source": [
    "# Real-time Gender Detection System"
   ]
  },
  {
   "cell_type": "code",
   "execution_count": 2,
   "id": "3e896e9a",
   "metadata": {},
   "outputs": [],
   "source": [
    "#Real-time Gender Detection System project "
   ]
  },
  {
   "cell_type": "code",
   "execution_count": 3,
   "id": "79dc90ac",
   "metadata": {},
   "outputs": [],
   "source": [
    "#libraries "
   ]
  },
  {
   "cell_type": "code",
   "execution_count": 13,
   "id": "5707351f",
   "metadata": {},
   "outputs": [
    {
     "name": "stdout",
     "output_type": "stream",
     "text": [
      "23-12-15 22:21:16 - Directory C:\\Users\\Selman/.deepface created\n",
      "23-12-15 22:21:16 - Directory C:\\Users\\Selman/.deepface/weights created\n"
     ]
    }
   ],
   "source": [
    "import cv2\n",
    "from deepface import DeepFace"
   ]
  },
  {
   "cell_type": "code",
   "execution_count": 5,
   "id": "8cbe8cc9",
   "metadata": {},
   "outputs": [],
   "source": [
    "#code"
   ]
  },
  {
   "cell_type": "code",
   "execution_count": 33,
   "id": "a59259f4",
   "metadata": {},
   "outputs": [],
   "source": [
    "# Starting Camera\n",
    "cap = cv2.VideoCapture(0)\n",
    "\n",
    "while True:\n",
    "    # Read frames\n",
    "    ret, frame = cap.read()\n",
    "\n",
    "    # Convert the frame to grayscale for face detection\n",
    "    gray = cv2.cvtColor(frame, cv2.COLOR_BGR2GRAY)\n",
    "\n",
    "    # Perform Face Detection using OpenCV\n",
    "    face_cascade = cv2.CascadeClassifier(cv2.data.haarcascades + 'haarcascade_frontalface_default.xml')\n",
    "    faces = face_cascade.detectMultiScale(gray, scaleFactor=1.1, minNeighbors=5, minSize=(30, 30))\n",
    "\n",
    "    for (x, y, w, h) in faces:\n",
    "        # Extract face region\n",
    "        face_roi = frame[y:y+h, x:x+w]\n",
    "\n",
    "        # Perform Gender Detection\n",
    "        results = DeepFace.analyze(face_roi, actions=[\"gender\"], enforce_detection=False)\n",
    "\n",
    "        # Check if dominant_gender is predicted\n",
    "        if 'dominant_gender' in results[0]:\n",
    "            dominant_gender = results[0]['dominant_gender']\n",
    "            confidence = results[0].get('dominant_gender_confidence', 0.0)\n",
    "            \n",
    "            text = f\"Gender: {dominant_gender} (Confidence: {confidence:.2f})\"\n",
    "            cv2.putText(frame, text, (x, y - 10), cv2.FONT_HERSHEY_SIMPLEX, 0.9, (0, 255, 0), 2)\n",
    "\n",
    "        # Draw frame around face\n",
    "        cv2.rectangle(frame, (x, y), (x+w, y+h), (0, 255, 0), 2)\n",
    "\n",
    "    # Show window\n",
    "    cv2.imshow('Gender Detection', frame)\n",
    "\n",
    "    # 'q' to quit\n",
    "    if cv2.waitKey(1) & 0xFF == ord('q'):\n",
    "        break\n",
    "\n",
    "# Clear resources\n",
    "cap.release()\n",
    "cv2.destroyAllWindows()\n"
   ]
  },
  {
   "cell_type": "code",
   "execution_count": 38,
   "id": "c617d2e4",
   "metadata": {},
   "outputs": [],
   "source": [
    "#sources"
   ]
  },
  {
   "cell_type": "markdown",
   "id": "86571886",
   "metadata": {},
   "source": [
    "Zafer Acar notes -[https://www.youtube.com/watch?v=hvNj7Js9RyA],-[https://chat.openai.com]"
   ]
  }
 ],
 "metadata": {
  "kernelspec": {
   "display_name": "Python 3 (ipykernel)",
   "language": "python",
   "name": "python3"
  },
  "language_info": {
   "codemirror_mode": {
    "name": "ipython",
    "version": 3
   },
   "file_extension": ".py",
   "mimetype": "text/x-python",
   "name": "python",
   "nbconvert_exporter": "python",
   "pygments_lexer": "ipython3",
   "version": "3.9.13"
  }
 },
 "nbformat": 4,
 "nbformat_minor": 5
}
